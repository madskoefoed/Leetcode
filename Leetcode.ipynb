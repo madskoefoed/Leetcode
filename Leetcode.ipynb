{
 "cells": [
  {
   "cell_type": "code",
   "execution_count": 1,
   "metadata": {},
   "outputs": [],
   "source": [
    "#import numpy as np"
   ]
  },
  {
   "cell_type": "markdown",
   "metadata": {},
   "source": [
    "#### 1. Two Sum"
   ]
  },
  {
   "cell_type": "code",
   "execution_count": 2,
   "metadata": {},
   "outputs": [
    {
     "name": "stdout",
     "output_type": "stream",
     "text": [
      "True\n",
      "True\n",
      "True\n"
     ]
    }
   ],
   "source": [
    "def two_sum(input: list, target: int) -> list:\n",
    "    for i in range(len(input)):\n",
    "        for j in range(i+1, len(input)):\n",
    "                if input[i] + input[j] == target:\n",
    "                    return [i, j]\n",
    "    \n",
    "    print(\"No solution found. Should not be possible!\")\n",
    "    return None\n",
    "\n",
    "print(two_sum([2,7,11,15], 9) == [0, 1])\n",
    "print(two_sum([3,2,4], 6) == [1, 2])\n",
    "print(two_sum([3,3], 6) == [0, 1])"
   ]
  },
  {
   "cell_type": "markdown",
   "metadata": {},
   "source": [
    "#### 2. Add Two Numbers"
   ]
  },
  {
   "cell_type": "code",
   "execution_count": 3,
   "metadata": {},
   "outputs": [
    {
     "name": "stdout",
     "output_type": "stream",
     "text": [
      "True\n",
      "True\n",
      "True\n"
     ]
    }
   ],
   "source": [
    "def add_two_numbers(l1, l2):\n",
    "    n1 = len(l1)\n",
    "    n2 = len(l2)\n",
    "    \n",
    "    if n1 > n2:\n",
    "        l2 = l2 + [0] * (n1-n2)\n",
    "    elif n1 > n2:\n",
    "        l1 = l1 + [0] * (n2-n1)\n",
    "\n",
    "    l = []\n",
    "    r = 0\n",
    "    for i in range(n1):\n",
    "        s = l1[i] + l2[i] + r\n",
    "        if s >= 10:\n",
    "            r = 1\n",
    "            s = s-10\n",
    "        else:\n",
    "            r = 0\n",
    "        l.append(s)\n",
    "\n",
    "    if r > 0:\n",
    "        l.append(r)\n",
    "\n",
    "    return l\n",
    "\n",
    "print(add_two_numbers([2,4,3], [5,6,4]) == [7, 0, 8])\n",
    "print(add_two_numbers([0], [0]) == [0])\n",
    "print(add_two_numbers([9,9,9,9,9,9,9], [9,9,9,9]) == [8,9,9,9,0,0,0,1])"
   ]
  },
  {
   "cell_type": "markdown",
   "metadata": {},
   "source": [
    "#### 3. Longest Substring Without Repeating Characters\n",
    "Given a string, find the length of the longest substring without repeating characters."
   ]
  },
  {
   "cell_type": "code",
   "execution_count": 4,
   "metadata": {},
   "outputs": [
    {
     "name": "stdout",
     "output_type": "stream",
     "text": [
      "True\n",
      "True\n",
      "True\n"
     ]
    }
   ],
   "source": [
    "def longest_substring(s):\n",
    "    n = len(s)\n",
    "    for i in range(n, 0, -1):\n",
    "        for j in range(0, n-i+1):\n",
    "            si = list(s[j:j+i])\n",
    "            if len(list(set(si))) == len(si):\n",
    "                return len(si)\n",
    "\n",
    "print(longest_substring(\"abcabcbb\") == 3)\n",
    "print(longest_substring(\"bbbbb\") == 1)\n",
    "print(longest_substring(\"pwwkew\") == 3)"
   ]
  },
  {
   "cell_type": "markdown",
   "metadata": {},
   "source": [
    "#### 4. Median of Two Sorted Arrays\n",
    "Given two sorted arrays num1 and num2 of size m and n respectively, return the median of the two sorted arrays."
   ]
  },
  {
   "cell_type": "code",
   "execution_count": 5,
   "metadata": {},
   "outputs": [
    {
     "name": "stdout",
     "output_type": "stream",
     "text": [
      "True\n",
      "True\n"
     ]
    }
   ],
   "source": [
    "# Currently not a O(log(n+m)) solution\n",
    "def median_of_two_sorted_arrays(num1, num2):\n",
    "    num = sorted(num1 + num2)\n",
    "    n = len(num)//2\n",
    "    if len(num)%2 == 0:\n",
    "        return (num[n-1] + num[n])/2\n",
    "    else:\n",
    "        return num[n]\n",
    "\n",
    "print(median_of_two_sorted_arrays([1,3], [2]) == 2)\n",
    "print(median_of_two_sorted_arrays([1,2], [3,4]) == 2.5)"
   ]
  },
  {
   "cell_type": "markdown",
   "metadata": {},
   "source": [
    "#### 5. Longest Palindromic Substring\n",
    "Given a string, return the longest Palindromic substring in s. A string is Palindromic if it reads the same forwards and backwards, i.e. \"kook\"."
   ]
  },
  {
   "cell_type": "code",
   "execution_count": 6,
   "metadata": {},
   "outputs": [
    {
     "name": "stdout",
     "output_type": "stream",
     "text": [
      "True\n",
      "True\n"
     ]
    }
   ],
   "source": [
    "def longest_palindromic_substring(s):\n",
    "    n = len(s)\n",
    "    m = 0\n",
    "    while not n == 0:\n",
    "        for i in range(m):\n",
    "            ss = s[i:i+n]\n",
    "            if ss == ss[::-1]:\n",
    "                return ss\n",
    "\n",
    "        n -= 1\n",
    "        m += 1\n",
    "\n",
    "    return None\n",
    "\n",
    "print(longest_palindromic_substring(\"babad\") == \"bab\")\n",
    "print(longest_palindromic_substring(\"cbbd\") == \"bb\")"
   ]
  },
  {
   "cell_type": "markdown",
   "metadata": {},
   "source": [
    "#### 6. Zigzag Conversion\n",
    "The string PAYPALISHIRING is written in a zigzag pattern on a given number of rows like this:\n",
    "P   A   H   N\n",
    "A P L S I I G\n",
    "Y   I   R\n",
    "and then read line by line: PAHNAPLSIIGYIR\n",
    "\n",
    "Write the code that will take a string and make this conversion given a number of rows."
   ]
  },
  {
   "cell_type": "code",
   "execution_count": 7,
   "metadata": {},
   "outputs": [
    {
     "name": "stdout",
     "output_type": "stream",
     "text": [
      "True\n",
      "True\n",
      "True\n"
     ]
    }
   ],
   "source": [
    "def zigzag_conversion(s: str, n: int):\n",
    "    if n == 1:\n",
    "        return s\n",
    "    elif n == 2:\n",
    "        return s[0:len(s):2] + s[1:len(s):2]\n",
    "    else:\n",
    "        # Expand\n",
    "        if len(s)%n != 0:\n",
    "            s += \" \" * (n - len(s)%n)\n",
    "\n",
    "        snew = []\n",
    "        i = 0\n",
    "        while i < len(s):\n",
    "\n",
    "            d = i%(n-1)\n",
    "            if d == 0:\n",
    "                snew.append(s[i:i+n])\n",
    "                i += n\n",
    "            else:\n",
    "                b = n-d-1\n",
    "                snew.append((\" \" * b) + s[i:i+1] + (\" \" * d))\n",
    "                i += 1\n",
    "\n",
    "        snew2 = \"\"\n",
    "        for i in range(n):\n",
    "            for j in range(len(snew)):\n",
    "                snew2 += snew[j][i]\n",
    "\n",
    "        snew2 = snew2.replace(\" \", \"\")\n",
    "        \n",
    "        return snew2\n",
    "\n",
    "print(zigzag_conversion(\"PAYPALISHIRING\", 3) == \"PAHNAPLSIIGYIR\")\n",
    "print(zigzag_conversion(\"PAYPALISHIRING\", 4) == \"PINALSIGYAHRPI\")\n",
    "print(zigzag_conversion(\"A\", 1) == \"A\")\n"
   ]
  },
  {
   "cell_type": "markdown",
   "metadata": {},
   "source": [
    "#### 7. Reverse Integer\n",
    "Given a signed 32-bit integer, x, return x with its digits reversed. If reversing x causes the value to go outside the signed 32-bit integer range [-2^31, 2^31 -1], then return 0."
   ]
  },
  {
   "cell_type": "code",
   "execution_count": 8,
   "metadata": {},
   "outputs": [
    {
     "name": "stdout",
     "output_type": "stream",
     "text": [
      "True\n",
      "True\n",
      "True\n",
      "True\n"
     ]
    }
   ],
   "source": [
    "def reverse_integer(x):\n",
    "    if not isinstance(x, int):\n",
    "        raise TypeError(\"The argument 'x' must be an integer\")\n",
    "\n",
    "    if x < 0:\n",
    "        s = -1\n",
    "    else:\n",
    "        s = 1\n",
    "    \n",
    "    x = str(abs(x))\n",
    "    x = ''.join(list(reversed(list(x))))\n",
    "    x = int(x)*s\n",
    "\n",
    "    num = 2**31\n",
    "    if x < -num or x > (num-1):\n",
    "        return 0\n",
    "\n",
    "    return x\n",
    "\n",
    "print(reverse_integer(123) == 321)\n",
    "print(reverse_integer(-123) == -321)\n",
    "print(reverse_integer(120) == 21)\n",
    "print(reverse_integer(2**40) == 0)"
   ]
  },
  {
   "cell_type": "markdown",
   "metadata": {},
   "source": [
    "#### 8. String to Integer (atoi)\n",
    "Implement the myAtoi(string s) function, which converts a string to a 32-bit signed integer."
   ]
  },
  {
   "cell_type": "code",
   "execution_count": 9,
   "metadata": {},
   "outputs": [
    {
     "name": "stdout",
     "output_type": "stream",
     "text": [
      "True\n",
      "True\n",
      "True\n",
      "True\n",
      "True\n"
     ]
    }
   ],
   "source": [
    "def string_to_integer(s):\n",
    "\n",
    "    # 1. Whitespace\n",
    "    s = s.strip()\n",
    "\n",
    "    # 2. Signedness\n",
    "    sig = 1\n",
    "    if s[0] == \"-\":\n",
    "        sig = -1\n",
    "        s = s[1:]\n",
    "    elif s[0] == \"+\":\n",
    "        s = s[1:]\n",
    "\n",
    "    # 3. Conversion\n",
    "    x = \"0\"\n",
    "    for i in range(len(s)):\n",
    "        if s[i] in [\"0\", \"1\", \"2\", \"3\", \"4\", \"5\", \"6\", \"7\", \"8\", \"9\"]:\n",
    "            x += s[i]\n",
    "        else:\n",
    "            break\n",
    "\n",
    "    x = int(x)\n",
    "\n",
    "    # 4. Rounding\n",
    "    num = 2**31\n",
    "    if x < -num or x > (num-1):\n",
    "        x = 0\n",
    "\n",
    "    return x*sig\n",
    "\n",
    "print(string_to_integer(\"42\") == 42)\n",
    "print(string_to_integer(\" -042\") == -42)\n",
    "print(string_to_integer(\"1337c0d3\") == 1337)\n",
    "print(string_to_integer(\"0-1\") == 0)\n",
    "print(string_to_integer(\"words and 987\") == 0)"
   ]
  },
  {
   "cell_type": "markdown",
   "metadata": {},
   "source": [
    "#### 9. Palindrome Number\n",
    "Given an integer, x, return True if x is a palindrome, and False otherwise."
   ]
  },
  {
   "cell_type": "code",
   "execution_count": 64,
   "metadata": {},
   "outputs": [
    {
     "name": "stdout",
     "output_type": "stream",
     "text": [
      "True\n",
      "True\n",
      "True\n"
     ]
    }
   ],
   "source": [
    "def palindrome_number(x: int):\n",
    "    x = str(x)\n",
    "    y = ''.join(list(reversed(list(x))))\n",
    "    if x == y:\n",
    "        return True\n",
    "    else:\n",
    "        return False\n",
    "\n",
    "print(palindrome_number(121) == True)\n",
    "print(palindrome_number(-121) == False)\n",
    "print(palindrome_number(10) == False)"
   ]
  },
  {
   "cell_type": "markdown",
   "metadata": {},
   "source": [
    "#### 10. Regular Expression Matching\n",
    "Given an input string, s, and pattern, p, implement regular expression matching with support for '.' and '*' where:\n",
    "\n",
    "'.' matches ny single character.\n",
    "\n",
    "'*' matches zero or more of the preciding element.\n",
    "\n",
    "The matching should cover the entire input string (not partial)."
   ]
  },
  {
   "cell_type": "code",
   "execution_count": null,
   "metadata": {},
   "outputs": [],
   "source": []
  },
  {
   "cell_type": "markdown",
   "metadata": {},
   "source": [
    "#### 11. Container With Most Water\n",
    "You are given an integer array, height, of length n. There are n vertical lines drawn such that the two endpoints of the i'th line are (i,0) and )i, height[i]). Find two lines that together with the x-axis form a container, such that the container contains the most water. Return the maximum amount of water a container can store."
   ]
  },
  {
   "cell_type": "code",
   "execution_count": 74,
   "metadata": {},
   "outputs": [
    {
     "name": "stdout",
     "output_type": "stream",
     "text": [
      "True\n",
      "True\n"
     ]
    }
   ],
   "source": [
    "def container_with_most_water(height: list):\n",
    "    val = 0\n",
    "\n",
    "    for i in range(len(height)-1):\n",
    "        for j in range(i+1, len(height)):\n",
    "            minval = min(height[i], height[j])\n",
    "            newval = minval * (j-i)\n",
    "\n",
    "            if newval > val:\n",
    "                val = newval\n",
    "\n",
    "    return val\n",
    "\n",
    "print(container_with_most_water([1,8,6,2,5,4,8,3,7]) == 49)\n",
    "print(container_with_most_water([1,1]) == 1)"
   ]
  },
  {
   "cell_type": "markdown",
   "metadata": {},
   "source": [
    "#### 12. Integer to Roman\n",
    "Seven different symbols represent Roman numerals with the following values:\n",
    "I = 1, V = 5, X = 10, L = 50, C = 100, D = 500, M = 1000."
   ]
  },
  {
   "cell_type": "code",
   "execution_count": 85,
   "metadata": {},
   "outputs": [
    {
     "name": "stdout",
     "output_type": "stream",
     "text": [
      "MMMDCCXLIX\n",
      "True\n",
      "True\n",
      "True\n"
     ]
    }
   ],
   "source": [
    "def integer_to_roman(num: int):\n",
    "    if num < 1 or num > 3999:\n",
    "        raise ValueError(\"The argument 'num' must be in the range 0-4000, both excluded.\")\n",
    "\n",
    "    roman = \"\"\n",
    "\n",
    "    # Thousands\n",
    "    M = num//1000\n",
    "    if M > 0:\n",
    "        roman += \"M\" * M\n",
    "\n",
    "    num = num - M*1000\n",
    "\n",
    "    # Hundreds\n",
    "    H = num//100\n",
    "    if H > 0:\n",
    "        if H == 4:\n",
    "            roman += \"CD\"\n",
    "        elif H == 9:\n",
    "            roman += \"CM\"\n",
    "        elif H >= 5:\n",
    "            roman += \"D\" + \"C\" * (H-5)\n",
    "        else:\n",
    "            roman += \"C\" * H + \"D\"\n",
    "\n",
    "    num = num - H*100\n",
    "\n",
    "    # Tens\n",
    "    T = num//10\n",
    "    if T > 0:\n",
    "        if T == 4:\n",
    "            roman += \"XL\"\n",
    "        elif T == 9:\n",
    "            roman += \"XC\"\n",
    "        elif T >= 5:\n",
    "            roman += \"L\" + \"X\" * (T-5)\n",
    "        else:\n",
    "            roman += \"X\" + T * \"L\"\n",
    "\n",
    "        num = num - T*10\n",
    "\n",
    "        # Remainder\n",
    "        if num > 0:\n",
    "            if num == 4:\n",
    "                roman += \"IV\"\n",
    "            elif num == 9:\n",
    "                roman += \"IX\"\n",
    "            elif num >= 5:\n",
    "                roman += \"V\" + \"I\" * (num-5)\n",
    "            else:\n",
    "                roman += \"I\" * num\n",
    "        \n",
    "    return roman\n",
    "\n",
    "print(integer_to_roman(3749) == \"MMMDCCXLIX\")\n",
    "print(integer_to_roman(58) == \"LVIII\")\n",
    "print(integer_to_roman(1994) == \"MCMXCIV\")"
   ]
  },
  {
   "cell_type": "markdown",
   "metadata": {},
   "source": [
    "#### 13. Roman to Integer\n",
    "See puzzle 12 for details."
   ]
  },
  {
   "cell_type": "code",
   "execution_count": 103,
   "metadata": {},
   "outputs": [
    {
     "name": "stdout",
     "output_type": "stream",
     "text": [
      "True\n",
      "True\n",
      "True\n"
     ]
    }
   ],
   "source": [
    "def count_characters(l: list):\n",
    "    return {c : l.count(c) for c in set(l)}\n",
    "\n",
    "def roman_to_integer(s: str):\n",
    "    n = len(s)\n",
    "    if n < 1 or n > 15:\n",
    "        raise ValueError(\"The argument 's' must have a length of 1 to 15\")\n",
    "    \n",
    "    num = 0\n",
    "\n",
    "    # Search for specific combinations\n",
    "    if \"IV\" in s:       # 4\n",
    "        num += 4\n",
    "        s = s.replace(\"IV\", \"\")\n",
    "    if \"IX\" in s:       # 9\n",
    "        num += 9\n",
    "        s = s.replace(\"IX\", \"\")\n",
    "    if \"XL\" in s:       # 40\n",
    "        num += 40\n",
    "        s = s.replace(\"XL\", \"\")\n",
    "    if \"XC\" in s:       # 90\n",
    "        num += 90\n",
    "        s = s.replace(\"XC\", \"\")\n",
    "    if \"CD\" in s:       # 400\n",
    "        num += 400\n",
    "        s = s.replace(\"CD\", \"\")\n",
    "    if \"CM\" in s:       # 900\n",
    "        num += 900\n",
    "        s = s.replace(\"CM\", \"\")\n",
    "\n",
    "    counts = count_characters(list(s))\n",
    "\n",
    "    num += 1000 * counts.get(\"M\", 0)\n",
    "    num += 500  * counts.get(\"D\", 0)\n",
    "    num += 100  * counts.get(\"C\", 0)\n",
    "    num += 50   * counts.get(\"L\", 0)\n",
    "    num += 10   * counts.get(\"X\", 0)\n",
    "    num += 5    * counts.get(\"V\", 0)\n",
    "    num += counts.get(\"I\", 0)\n",
    "\n",
    "    return num\n",
    "\n",
    "print(roman_to_integer(\"III\") == 3)\n",
    "print(roman_to_integer(\"LVIII\") == 58)\n",
    "print(roman_to_integer(\"MCMXCIV\") == 1994)"
   ]
  },
  {
   "cell_type": "markdown",
   "metadata": {},
   "source": [
    "#### 14. Longest Common Prefix\n",
    "Write a function to find the longest common prefix string amongst an array of strings. If there is no common prefix, return an empty string \"\"."
   ]
  },
  {
   "cell_type": "code",
   "execution_count": 124,
   "metadata": {},
   "outputs": [
    {
     "name": "stdout",
     "output_type": "stream",
     "text": [
      "True\n",
      "True\n"
     ]
    }
   ],
   "source": [
    "def longest_common_prefix(strs: list):\n",
    "    # Get the longest possible length\n",
    "    n = min([len(s) for s in strs])\n",
    "    \n",
    "    lcp = \"\"\n",
    "    for i in range(n):\n",
    "        s = set([s[i] for s in strs])\n",
    "\n",
    "        if len(s) == 1:\n",
    "            lcp += strs[0][i]\n",
    "        else:\n",
    "            break\n",
    "\n",
    "    return lcp\n",
    "\n",
    "print(longest_common_prefix([\"flower\",\"flow\",\"flight\"]) == \"fl\")\n",
    "print(longest_common_prefix([\"dog\",\"racecar\",\"car\"]) == \"\")"
   ]
  },
  {
   "cell_type": "markdown",
   "metadata": {},
   "source": [
    "#### 15. 3Sum\n",
    "Given an integer array, nums, return all the triplets such that i != j, i!= k, and j != k, and nums[i]+nums[j]+nums[k] == 0."
   ]
  },
  {
   "cell_type": "code",
   "execution_count": 137,
   "metadata": {},
   "outputs": [
    {
     "name": "stdout",
     "output_type": "stream",
     "text": [
      "True\n",
      "True\n",
      "True\n"
     ]
    }
   ],
   "source": [
    "def ThreeSum(nums: list):\n",
    "    n = len(nums)\n",
    "\n",
    "    out = []\n",
    "    for i in range(n):\n",
    "        for j in range(i+1, n):\n",
    "            for k in range(j+1, n):\n",
    "\n",
    "                # Make sure they sum to 0\n",
    "                if nums[i] + nums[j] + nums[k] == 0:\n",
    "                    \n",
    "                    # Check that i, j, k are not the same\n",
    "                    if i != j and i != k and j != k:\n",
    "                        triplet = sorted([nums[i], nums[j], nums[k]])\n",
    "\n",
    "                        # No duplicates\n",
    "                        if not triplet in out:\n",
    "                            out.append(triplet)\n",
    "\n",
    "    out = sorted(out)\n",
    "\n",
    "    return out\n",
    "\n",
    "print(ThreeSum([-1,0,1,2,-1,-4]) == [[-1,-1,2],[-1,0,1]])\n",
    "print(ThreeSum([0,1,1]) == [])\n",
    "print(ThreeSum([0,0,0]) == [[0,0,0]])"
   ]
  },
  {
   "cell_type": "markdown",
   "metadata": {},
   "source": [
    "#### 17. Letter Combinations of a Phone Number\n",
    "Given a string containing digits from 2-9 inclusive, return all possible letter combinations that the number could represent. Return the answer in any order.\n",
    "A mapping of digits to letters (just like on the telephone buttons) is given below. Note that 1 does not map to any letters."
   ]
  },
  {
   "cell_type": "code",
   "execution_count": 208,
   "metadata": {},
   "outputs": [
    {
     "data": {
      "text/plain": [
       "['sa', 'sb']"
      ]
     },
     "execution_count": 208,
     "metadata": {},
     "output_type": "execute_result"
    }
   ],
   "source": [
    "[i + j for i in [\"s\"] for j in [\"a\", \"b\"]]"
   ]
  },
  {
   "cell_type": "code",
   "execution_count": 219,
   "metadata": {},
   "outputs": [
    {
     "name": "stdout",
     "output_type": "stream",
     "text": [
      "True\n",
      "True\n",
      "True\n"
     ]
    }
   ],
   "source": [
    "from string import ascii_lowercase\n",
    "\n",
    "def letter_combinations_of_a_phone_number(s: str):\n",
    "    if len(s) == 0:\n",
    "        return []\n",
    "\n",
    "    s = list(s)\n",
    "    letters = {}\n",
    "    c = 0\n",
    "    for i in range(2, 10):\n",
    "        if i == 7 or i == 9:\n",
    "            letters[str(i)] = ascii_lowercase[c:c+4]\n",
    "            c += 4\n",
    "        else:\n",
    "            letters[str(i)] = ascii_lowercase[c:c+3]\n",
    "            c += 3\n",
    "\n",
    "    out = [\"\"]\n",
    "    for val in s:\n",
    "        tmp = list(letters[val])\n",
    "        out = [i+j for i in out for j in tmp]       \n",
    "            \n",
    "    return out\n",
    "\n",
    "print(letter_combinations_of_a_phone_number(\"23\") == [\"ad\",\"ae\",\"af\",\"bd\",\"be\",\"bf\",\"cd\",\"ce\",\"cf\"])\n",
    "print(letter_combinations_of_a_phone_number(\"\") == [])\n",
    "print(letter_combinations_of_a_phone_number(\"2\") == [\"a\", \"b\", \"c\"])"
   ]
  },
  {
   "cell_type": "markdown",
   "metadata": {},
   "source": [
    "#### 18. 4Sum\n",
    "Given an array, nums, of n integers, return an array of all the unique quadruplets [nums[a], [nums[b], nums[c], nums[d]]] such that:\n",
    "* 0 <= a, b, c, d < n\n",
    "* a, b, c, and d are distinct\n",
    "* nums[a] + nums[b] + nums[c] + nums[d] = target"
   ]
  },
  {
   "cell_type": "code",
   "execution_count": 226,
   "metadata": {},
   "outputs": [
    {
     "name": "stdout",
     "output_type": "stream",
     "text": [
      "True\n",
      "True\n"
     ]
    }
   ],
   "source": [
    "def four_sum(nums: list, target: int):\n",
    "    n = len(nums)\n",
    "    output = []\n",
    "    if n < 4:\n",
    "        return output\n",
    "    \n",
    "    for a in range(n):\n",
    "        for b in range(a+1, n):\n",
    "            for c in range(b+1, n):\n",
    "                for d in range(c+1, n):\n",
    "\n",
    "                    if nums[a] + nums[b] + nums[c] + nums[d] == target:\n",
    "                        candidate = sorted([nums[a], nums[b], nums[c], nums[d]])\n",
    "                        if not candidate in output:\n",
    "                            output.append(candidate)\n",
    "\n",
    "    output = sorted(output)\n",
    "    return output\n",
    "\n",
    "print(four_sum([1, 0, -1, 0, -2, 2], 0) == [[-2, -1, 1, 2], [-2, 0, 0, 2], [-1, 0, 0, 1]])\n",
    "print(four_sum([2, 2, 2, 2, 2], 8) == [[2, 2, 2, 2]])"
   ]
  },
  {
   "cell_type": "markdown",
   "metadata": {},
   "source": [
    "#### 35. Search Insert Position\n",
    "Given a sorted array of distinct integers and a target value, return the index if the target is found. If not, return the index where it would be if it were inserted in order."
   ]
  },
  {
   "cell_type": "code",
   "execution_count": 10,
   "metadata": {},
   "outputs": [
    {
     "name": "stdout",
     "output_type": "stream",
     "text": [
      "True\n",
      "True\n",
      "True\n"
     ]
    }
   ],
   "source": [
    "def search_insert_position(a, target):\n",
    "    for (idx, val) in enumerate(a):\n",
    "        if val >= target:\n",
    "            return idx\n",
    "        \n",
    "    return len(a)\n",
    "\n",
    "print(search_insert_position([1, 3, 5, 6], 5) == 2)\n",
    "print(search_insert_position([1, 3, 5, 6], 2) == 1)\n",
    "print(search_insert_position([1, 3, 5, 6], 7) == 4)"
   ]
  },
  {
   "cell_type": "markdown",
   "metadata": {},
   "source": [
    "#### Problem 48. Rotate Image"
   ]
  },
  {
   "cell_type": "code",
   "execution_count": 11,
   "metadata": {},
   "outputs": [],
   "source": [
    "def rotate90(A):\n",
    "    if not A.ndim == 2:\n",
    "        ValueError(\"The input 'A' must be a 2-dimensional array\")\n",
    "    nrow, ncol = A.shape\n",
    "    if not nrow == ncol:\n",
    "        ValueError(\"The matrix 'A' must be square\")\n",
    "\n",
    "    n = nrow // 2\n",
    "    for i in range(n):\n",
    "        c1 = A[i, i:ncol-i-1]\n",
    "        c2 = A[i:ncol-i-1, ncol-1]\n",
    "        c3 = A[nrow-i-1, i+1:ncol-i]\n",
    "        c4 = A[i+1:nrow, i]\n",
    "\n",
    "        print(\"C1\", c1)\n",
    "        print(\"C2\", c2)\n",
    "        print(\"C3\", c3)\n",
    "        print(\"C4\", c4)\n",
    "\n",
    "        A[i, i:ncol-i-1] = c4\n",
    "        A[i:ncol-i-1, ncol-1] = c1\n",
    "        A[nrow-i-1, i+1:ncol-i] = c2\n",
    "        A[i+1:nrow, i] = c3\n",
    "\n",
    "    return A\n",
    "\n",
    "\n",
    "#print(A2)\n",
    "#print(rotate90(A1))\n",
    "#A1 = np.arange(9).reshape(3,3) + 1\n",
    "#A2 = np.array([5, 1, 9, 11, 2, 4, 8, 10, 13, 3, 6, 7, 15, 14, 12, 16]).reshape(4, 4)"
   ]
  },
  {
   "cell_type": "markdown",
   "metadata": {},
   "source": [
    "#### 78. Subsets\n",
    "Given an integer array, nums, of unique elements, return all possible subsets (the power set). The solution must not contain duplicate subsets. Return the solution in any order."
   ]
  },
  {
   "cell_type": "code",
   "execution_count": 79,
   "metadata": {},
   "outputs": [
    {
     "name": "stdout",
     "output_type": "stream",
     "text": [
      "True\n",
      "True\n"
     ]
    }
   ],
   "source": [
    "import itertools as it\n",
    "\n",
    "def subsets(a: list):\n",
    "    n = len(a)\n",
    "    if n == 0:\n",
    "        return [[]]\n",
    "    else:\n",
    "        out = []\n",
    "        for i in range(n):\n",
    "            tmp = list(it.combinations(a, i))\n",
    "            tmp = [list(tmp[i]) for i in range(len(tmp))]\n",
    "            out = out + tmp\n",
    "\n",
    "        out = out + [a]\n",
    "        return out\n",
    "\n",
    "print(subsets([1,2,3]) == [[], [1], [2], [3], [1,2], [1,3], [2,3], [1,2,3]])\n",
    "print(subsets([0]) == [[], [0]])"
   ]
  },
  {
   "cell_type": "code",
   "execution_count": null,
   "metadata": {},
   "outputs": [],
   "source": [
    "#### "
   ]
  },
  {
   "cell_type": "code",
   "execution_count": null,
   "metadata": {},
   "outputs": [],
   "source": []
  },
  {
   "cell_type": "markdown",
   "metadata": {},
   "source": [
    "#### 100. Same Tree\n",
    "Given the roots of two binary trees p and q, write a function to check if they are the same or not. Two binary trees are considered the same if they are structurally identical, and the nodes have the same value."
   ]
  },
  {
   "cell_type": "code",
   "execution_count": 13,
   "metadata": {},
   "outputs": [
    {
     "name": "stdout",
     "output_type": "stream",
     "text": [
      "True\n",
      "True\n",
      "True\n"
     ]
    }
   ],
   "source": [
    "def same_tree(p, q):\n",
    "    if str(p) == str(q):\n",
    "        return True\n",
    "    else:\n",
    "        return False\n",
    "\n",
    "print(same_tree([1,2,3], [1,2,3]) == True)\n",
    "print(same_tree([1,2], [1, None, 2]) == False)\n",
    "print(same_tree([1,2,1], [1,1,2]) == False)"
   ]
  },
  {
   "cell_type": "markdown",
   "metadata": {},
   "source": [
    "#### 136. Single Number\n",
    "Given a non-empty array of integers, nums, every element appears twice except for one. Find that single one."
   ]
  },
  {
   "cell_type": "code",
   "execution_count": 14,
   "metadata": {},
   "outputs": [
    {
     "data": {
      "text/plain": [
       "True"
      ]
     },
     "execution_count": 14,
     "metadata": {},
     "output_type": "execute_result"
    }
   ],
   "source": [
    "3 in set([1,2,3,3])"
   ]
  },
  {
   "cell_type": "code",
   "execution_count": 15,
   "metadata": {},
   "outputs": [
    {
     "name": "stdout",
     "output_type": "stream",
     "text": [
      "True\n",
      "True\n",
      "True\n"
     ]
    }
   ],
   "source": [
    "def single_number(nums):\n",
    "    if len(nums) == 1:\n",
    "        return nums[0]\n",
    "    else:\n",
    "        for i in list(set(nums)):\n",
    "            if nums.count(i) == 1:\n",
    "                return i\n",
    "\n",
    "print(single_number([2,2,1]) == 1)\n",
    "print(single_number([4,1,2,1,2]) == 4)\n",
    "print(single_number([1]) == 1)"
   ]
  },
  {
   "cell_type": "markdown",
   "metadata": {},
   "source": [
    "#### 654. Maximum Binary Tree\n",
    "You are given an integer array, nums, with no duplicates. A maximum binary tree can be built recursively from nums using the following algorithms:\n",
    "1. Create a root node whose value is the maximum value in nums.\n",
    "2. Recursively build the left subtree on the subarray prefix to the left of the maximum value.\n",
    "3. Recursively build the right subtree on the subarray suffix to the right of the maximum value."
   ]
  },
  {
   "cell_type": "code",
   "execution_count": 48,
   "metadata": {},
   "outputs": [],
   "source": []
  },
  {
   "cell_type": "code",
   "execution_count": 59,
   "metadata": {},
   "outputs": [],
   "source": [
    "\n"
   ]
  },
  {
   "cell_type": "code",
   "execution_count": null,
   "metadata": {},
   "outputs": [],
   "source": []
  },
  {
   "cell_type": "code",
   "execution_count": null,
   "metadata": {},
   "outputs": [],
   "source": []
  },
  {
   "cell_type": "code",
   "execution_count": null,
   "metadata": {},
   "outputs": [],
   "source": []
  },
  {
   "cell_type": "code",
   "execution_count": null,
   "metadata": {},
   "outputs": [],
   "source": []
  }
 ],
 "metadata": {
  "kernelspec": {
   "display_name": "Python 3",
   "language": "python",
   "name": "python3"
  },
  "language_info": {
   "codemirror_mode": {
    "name": "ipython",
    "version": 3
   },
   "file_extension": ".py",
   "mimetype": "text/x-python",
   "name": "python",
   "nbconvert_exporter": "python",
   "pygments_lexer": "ipython3",
   "version": "3.12.0"
  }
 },
 "nbformat": 4,
 "nbformat_minor": 2
}
