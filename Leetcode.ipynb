{
 "cells": [
  {
   "cell_type": "code",
   "execution_count": 1,
   "metadata": {},
   "outputs": [],
   "source": [
    "#import numpy as np"
   ]
  },
  {
   "cell_type": "markdown",
   "metadata": {},
   "source": [
    "#### 1. Two Sum"
   ]
  },
  {
   "cell_type": "code",
   "execution_count": 2,
   "metadata": {},
   "outputs": [
    {
     "name": "stdout",
     "output_type": "stream",
     "text": [
      "True\n",
      "True\n",
      "True\n"
     ]
    }
   ],
   "source": [
    "def two_sum(input: list, target: int) -> list:\n",
    "    for i in range(len(input)):\n",
    "        for j in range(i+1, len(input)):\n",
    "                if input[i] + input[j] == target:\n",
    "                    return [i, j]\n",
    "    \n",
    "    print(\"No solution found. Should not be possible!\")\n",
    "    return None\n",
    "\n",
    "print(two_sum([2,7,11,15], 9) == [0, 1])\n",
    "print(two_sum([3,2,4], 6) == [1, 2])\n",
    "print(two_sum([3,3], 6) == [0, 1])"
   ]
  },
  {
   "cell_type": "markdown",
   "metadata": {},
   "source": [
    "#### 2. Add Two Numbers"
   ]
  },
  {
   "cell_type": "code",
   "execution_count": 3,
   "metadata": {},
   "outputs": [
    {
     "name": "stdout",
     "output_type": "stream",
     "text": [
      "True\n",
      "True\n",
      "True\n"
     ]
    }
   ],
   "source": [
    "def add_two_numbers(l1, l2):\n",
    "    n1 = len(l1)\n",
    "    n2 = len(l2)\n",
    "    \n",
    "    if n1 > n2:\n",
    "        l2 = l2 + [0] * (n1-n2)\n",
    "    elif n1 > n2:\n",
    "        l1 = l1 + [0] * (n2-n1)\n",
    "\n",
    "    l = []\n",
    "    r = 0\n",
    "    for i in range(n1):\n",
    "        s = l1[i] + l2[i] + r\n",
    "        if s >= 10:\n",
    "            r = 1\n",
    "            s = s-10\n",
    "        else:\n",
    "            r = 0\n",
    "        l.append(s)\n",
    "\n",
    "    if r > 0:\n",
    "        l.append(r)\n",
    "\n",
    "    return l\n",
    "\n",
    "print(add_two_numbers([2,4,3], [5,6,4]) == [7, 0, 8])\n",
    "print(add_two_numbers([0], [0]) == [0])\n",
    "print(add_two_numbers([9,9,9,9,9,9,9], [9,9,9,9]) == [8,9,9,9,0,0,0,1])"
   ]
  },
  {
   "cell_type": "markdown",
   "metadata": {},
   "source": [
    "#### 3. Longest Substring Without Repeating Characters\n",
    "Given a string, find the length of the longest substring without repeating characters."
   ]
  },
  {
   "cell_type": "code",
   "execution_count": 4,
   "metadata": {},
   "outputs": [
    {
     "name": "stdout",
     "output_type": "stream",
     "text": [
      "True\n",
      "True\n",
      "True\n"
     ]
    }
   ],
   "source": [
    "def longest_substring(s):\n",
    "    n = len(s)\n",
    "    for i in range(n, 0, -1):\n",
    "        for j in range(0, n-i+1):\n",
    "            si = list(s[j:j+i])\n",
    "            if len(list(set(si))) == len(si):\n",
    "                return len(si)\n",
    "\n",
    "print(longest_substring(\"abcabcbb\") == 3)\n",
    "print(longest_substring(\"bbbbb\") == 1)\n",
    "print(longest_substring(\"pwwkew\") == 3)"
   ]
  },
  {
   "cell_type": "markdown",
   "metadata": {},
   "source": [
    "#### 4. Median of Two Sorted Arrays\n",
    "Given two sorted arrays num1 and num2 of size m and n respectively, return the median of the two sorted arrays."
   ]
  },
  {
   "cell_type": "code",
   "execution_count": 5,
   "metadata": {},
   "outputs": [
    {
     "name": "stdout",
     "output_type": "stream",
     "text": [
      "True\n",
      "True\n"
     ]
    }
   ],
   "source": [
    "# Currently not a O(log(n+m)) solution\n",
    "def median_of_two_sorted_arrays(num1, num2):\n",
    "    num = sorted(num1 + num2)\n",
    "    n = len(num)//2\n",
    "    if len(num)%2 == 0:\n",
    "        return (num[n-1] + num[n])/2\n",
    "    else:\n",
    "        return num[n]\n",
    "\n",
    "print(median_of_two_sorted_arrays([1,3], [2]) == 2)\n",
    "print(median_of_two_sorted_arrays([1,2], [3,4]) == 2.5)"
   ]
  },
  {
   "cell_type": "markdown",
   "metadata": {},
   "source": [
    "#### 5. Longest Palindromic Substring\n",
    "Given a string, return the longest Palindromic substring in s. A string is Palindromic if it reads the same forwards and backwards, i.e. \"kook\"."
   ]
  },
  {
   "cell_type": "code",
   "execution_count": 6,
   "metadata": {},
   "outputs": [
    {
     "name": "stdout",
     "output_type": "stream",
     "text": [
      "True\n",
      "True\n"
     ]
    }
   ],
   "source": [
    "def longest_palindromic_substring(s):\n",
    "    n = len(s)\n",
    "    m = 0\n",
    "    while not n == 0:\n",
    "        for i in range(m):\n",
    "            ss = s[i:i+n]\n",
    "            if ss == ss[::-1]:\n",
    "                return ss\n",
    "\n",
    "        n -= 1\n",
    "        m += 1\n",
    "\n",
    "    return None\n",
    "\n",
    "print(longest_palindromic_substring(\"babad\") == \"bab\")\n",
    "print(longest_palindromic_substring(\"cbbd\") == \"bb\")"
   ]
  },
  {
   "cell_type": "markdown",
   "metadata": {},
   "source": [
    "#### 6. Zigzag Conversion\n",
    "The string PAYPALISHIRING is written in a zigzag pattern on a given number of rows like this:\n",
    "P   A   H   N\n",
    "A P L S I I G\n",
    "Y   I   R\n",
    "and then read line by line: PAHNAPLSIIGYIR\n",
    "\n",
    "Write the code that will take a string and make this conversion given a number of rows."
   ]
  },
  {
   "cell_type": "code",
   "execution_count": 51,
   "metadata": {},
   "outputs": [
    {
     "name": "stdout",
     "output_type": "stream",
     "text": [
      "True\n",
      "True\n",
      "True\n"
     ]
    }
   ],
   "source": [
    "def zigzag_conversion(s: str, n: int):\n",
    "    if n == 1:\n",
    "        return s\n",
    "    elif n == 2:\n",
    "        return s[0:len(s):2] + s[1:len(s):2]\n",
    "    else:\n",
    "        # Expand\n",
    "        if len(s)%n != 0:\n",
    "            s += \" \" * (n - len(s)%n)\n",
    "\n",
    "        snew = []\n",
    "        i = 0\n",
    "        while i < len(s):\n",
    "\n",
    "            d = i%(n-1)\n",
    "            if d == 0:\n",
    "                snew.append(s[i:i+n])\n",
    "                i += n\n",
    "            else:\n",
    "                b = n-d-1\n",
    "                snew.append((\" \" * b) + s[i:i+1] + (\" \" * d))\n",
    "                i += 1\n",
    "\n",
    "        snew2 = \"\"\n",
    "        for i in range(n):\n",
    "            for j in range(len(snew)):\n",
    "                snew2 += snew[j][i]\n",
    "\n",
    "        snew2 = snew2.replace(\" \", \"\")\n",
    "        \n",
    "        return snew2\n",
    "\n",
    "print(zigzag_conversion(\"PAYPALISHIRING\", 3) == \"PAHNAPLSIIGYIR\")\n",
    "print(zigzag_conversion(\"PAYPALISHIRING\", 4) == \"PINALSIGYAHRPI\")\n",
    "print(zigzag_conversion(\"A\", 1) == \"A\")\n"
   ]
  },
  {
   "cell_type": "markdown",
   "metadata": {},
   "source": [
    "#### 7. Reverse Integer\n",
    "Given a signed 32-bit integer, x, return x with its digits reversed. If reversing x causes the value to go outside the signed 32-bit integer range [-2^31, 2^31 -1], then return 0."
   ]
  },
  {
   "cell_type": "code",
   "execution_count": 81,
   "metadata": {},
   "outputs": [
    {
     "name": "stdout",
     "output_type": "stream",
     "text": [
      "True\n",
      "True\n",
      "True\n",
      "True\n"
     ]
    }
   ],
   "source": [
    "def reverse_integer(x):\n",
    "    if not isinstance(x, int):\n",
    "        raise TypeError(\"The argument 'x' must be an integer\")\n",
    "\n",
    "    if x < 0:\n",
    "        s = -1\n",
    "    else:\n",
    "        s = 1\n",
    "    \n",
    "    x = str(abs(x))\n",
    "    x = ''.join(list(reversed(list(x))))\n",
    "    x = int(x)*s\n",
    "\n",
    "    num = 2**31\n",
    "    if x < -num or x > (num-1):\n",
    "        return 0\n",
    "\n",
    "    return x\n",
    "\n",
    "print(reverse_integer(123) == 321)\n",
    "print(reverse_integer(-123) == -321)\n",
    "print(reverse_integer(120) == 21)\n",
    "print(reverse_integer(2**40) == 0)"
   ]
  },
  {
   "cell_type": "markdown",
   "metadata": {},
   "source": [
    "#### 8. String to Integer (atoi)\n",
    "Implement the myAtoi(string s) function, which converts a string to a 32-bit signed integer."
   ]
  },
  {
   "cell_type": "code",
   "execution_count": 89,
   "metadata": {},
   "outputs": [
    {
     "name": "stdout",
     "output_type": "stream",
     "text": [
      "True\n",
      "True\n",
      "True\n",
      "True\n",
      "True\n"
     ]
    }
   ],
   "source": [
    "def string_to_integer(s):\n",
    "\n",
    "    # 1. Whitespace\n",
    "    s = s.strip()\n",
    "\n",
    "    # 2. Signedness\n",
    "    sig = 1\n",
    "    if s[0] == \"-\":\n",
    "        sig = -1\n",
    "        s = s[1:]\n",
    "    elif s[0] == \"+\":\n",
    "        s = s[1:]\n",
    "\n",
    "    # 3. Conversion\n",
    "    x = \"0\"\n",
    "    for i in range(len(s)):\n",
    "        if s[i] in [\"0\", \"1\", \"2\", \"3\", \"4\", \"5\", \"6\", \"7\", \"8\", \"9\"]:\n",
    "            x += s[i]\n",
    "        else:\n",
    "            break\n",
    "\n",
    "    x = int(x)\n",
    "\n",
    "    # 4. Rounding\n",
    "    num = 2**31\n",
    "    if x < -num or x > (num-1):\n",
    "        x = 0\n",
    "\n",
    "    return x*sig\n",
    "\n",
    "print(string_to_integer(\"42\") == 42)\n",
    "print(string_to_integer(\" -042\") == -42)\n",
    "print(string_to_integer(\"1337c0d3\") == 1337)\n",
    "print(string_to_integer(\"0-1\") == 0)\n",
    "print(string_to_integer(\"words and 987\") == 0)"
   ]
  },
  {
   "cell_type": "markdown",
   "metadata": {},
   "source": [
    "#### Problem 48. Rotate Image"
   ]
  },
  {
   "cell_type": "code",
   "execution_count": 8,
   "metadata": {},
   "outputs": [
    {
     "ename": "NameError",
     "evalue": "name 'np' is not defined",
     "output_type": "error",
     "traceback": [
      "\u001b[0;31m---------------------------------------------------------------------------\u001b[0m",
      "\u001b[0;31mNameError\u001b[0m                                 Traceback (most recent call last)",
      "Cell \u001b[0;32mIn[8], line 1\u001b[0m\n\u001b[0;32m----> 1\u001b[0m A1 \u001b[38;5;241m=\u001b[39m \u001b[43mnp\u001b[49m\u001b[38;5;241m.\u001b[39marange(\u001b[38;5;241m9\u001b[39m)\u001b[38;5;241m.\u001b[39mreshape(\u001b[38;5;241m3\u001b[39m,\u001b[38;5;241m3\u001b[39m) \u001b[38;5;241m+\u001b[39m \u001b[38;5;241m1\u001b[39m\n\u001b[1;32m      2\u001b[0m A2 \u001b[38;5;241m=\u001b[39m np\u001b[38;5;241m.\u001b[39marray([\u001b[38;5;241m5\u001b[39m, \u001b[38;5;241m1\u001b[39m, \u001b[38;5;241m9\u001b[39m, \u001b[38;5;241m11\u001b[39m, \u001b[38;5;241m2\u001b[39m, \u001b[38;5;241m4\u001b[39m, \u001b[38;5;241m8\u001b[39m, \u001b[38;5;241m10\u001b[39m, \u001b[38;5;241m13\u001b[39m, \u001b[38;5;241m3\u001b[39m, \u001b[38;5;241m6\u001b[39m, \u001b[38;5;241m7\u001b[39m, \u001b[38;5;241m15\u001b[39m, \u001b[38;5;241m14\u001b[39m, \u001b[38;5;241m12\u001b[39m, \u001b[38;5;241m16\u001b[39m])\u001b[38;5;241m.\u001b[39mreshape(\u001b[38;5;241m4\u001b[39m, \u001b[38;5;241m4\u001b[39m)\n",
      "\u001b[0;31mNameError\u001b[0m: name 'np' is not defined"
     ]
    }
   ],
   "source": [
    "A1 = np.arange(9).reshape(3,3) + 1\n",
    "A2 = np.array([5, 1, 9, 11, 2, 4, 8, 10, 13, 3, 6, 7, 15, 14, 12, 16]).reshape(4, 4)"
   ]
  },
  {
   "cell_type": "code",
   "execution_count": null,
   "metadata": {},
   "outputs": [
    {
     "name": "stdout",
     "output_type": "stream",
     "text": [
      "C1 [1 2]\n",
      "C2 [3 6]\n",
      "C3 [8 9]\n",
      "C4 [4 7]\n",
      "[[4 7 4]\n",
      " [4 5 7]\n",
      " [7 4 7]]\n"
     ]
    }
   ],
   "source": [
    "def rotate90(A):\n",
    "    if not A.ndim == 2:\n",
    "        ValueError(\"The input 'A' must be a 2-dimensional array\")\n",
    "    nrow, ncol = A.shape\n",
    "    if not nrow == ncol:\n",
    "        ValueError(\"The matrix 'A' must be square\")\n",
    "\n",
    "    n = nrow // 2\n",
    "    for i in range(n):\n",
    "        c1 = A[i, i:ncol-i-1]\n",
    "        c2 = A[i:ncol-i-1, ncol-1]\n",
    "        c3 = A[nrow-i-1, i+1:ncol-i]\n",
    "        c4 = A[i+1:nrow, i]\n",
    "\n",
    "        print(\"C1\", c1)\n",
    "        print(\"C2\", c2)\n",
    "        print(\"C3\", c3)\n",
    "        print(\"C4\", c4)\n",
    "\n",
    "        A[i, i:ncol-i-1] = c4\n",
    "        A[i:ncol-i-1, ncol-1] = c1\n",
    "        A[nrow-i-1, i+1:ncol-i] = c2\n",
    "        A[i+1:nrow, i] = c3\n",
    "\n",
    "    return A\n",
    "\n",
    "\n",
    "#print(A2)\n",
    "print(rotate90(A1))"
   ]
  },
  {
   "cell_type": "code",
   "execution_count": null,
   "metadata": {},
   "outputs": [
    {
     "data": {
      "text/plain": [
       "array([[4, 7, 4],\n",
       "       [4, 5, 7],\n",
       "       [7, 4, 7]])"
      ]
     },
     "execution_count": 80,
     "metadata": {},
     "output_type": "execute_result"
    }
   ],
   "source": [
    "A1"
   ]
  }
 ],
 "metadata": {
  "kernelspec": {
   "display_name": "Python 3",
   "language": "python",
   "name": "python3"
  },
  "language_info": {
   "codemirror_mode": {
    "name": "ipython",
    "version": 3
   },
   "file_extension": ".py",
   "mimetype": "text/x-python",
   "name": "python",
   "nbconvert_exporter": "python",
   "pygments_lexer": "ipython3",
   "version": "3.12.0"
  }
 },
 "nbformat": 4,
 "nbformat_minor": 2
}
